{
 "metadata": {
  "name": "",
  "signature": "sha256:794d0e63bc4339052a7322b1ea035421397acbc30d66a5d5ad5100d19fcadb36"
 },
 "nbformat": 3,
 "nbformat_minor": 0,
 "worksheets": [
  {
   "cells": [
    {
     "cell_type": "heading",
     "level": 3,
     "metadata": {},
     "source": [
      "BasicCross.py Documentation"
     ]
    },
    {
     "cell_type": "heading",
     "level": 4,
     "metadata": {},
     "source": [
      "Contains methods to simulate back crosses and output .csv files containing statistics on the cross simulations"
     ]
    },
    {
     "cell_type": "markdown",
     "metadata": {},
     "source": [
      "To run the code, invoke the python interpreter on BasicCross.py with the following arguments."
     ]
    },
    {
     "cell_type": "code",
     "collapsed": false,
     "input": [
      "python BasicCross.py physLoc chromNumber numCrosses numIndividuals bucketSize numRandomSelect numIter"
     ],
     "language": "python",
     "metadata": {},
     "outputs": []
    },
    {
     "cell_type": "markdown",
     "metadata": {},
     "source": [
      "physLoc - selected physical location that must be held as target allele. Must be specified in bases."
     ]
    },
    {
     "cell_type": "markdown",
     "metadata": {},
     "source": [
      "chromNumber - selected chromosome (1 - 6)"
     ]
    },
    {
     "cell_type": "markdown",
     "metadata": {},
     "source": [
      "numCrosses - number of back crosses "
     ]
    },
    {
     "cell_type": "markdown",
     "metadata": {},
     "source": [
      "numIndividuals - number of individuals per generation"
     ]
    },
    {
     "cell_type": "markdown",
     "metadata": {},
     "source": [
      "bucketSize - size of each bucket for unique interval bucketing"
     ]
    },
    {
     "cell_type": "markdown",
     "metadata": {},
     "source": [
      "numRandomSelect - number of individuals to be randomly selected for outputing their complete genome"
     ]
    },
    {
     "cell_type": "markdown",
     "metadata": {},
     "source": [
      "numIter - number of times the simulation is repeated"
     ]
    },
    {
     "cell_type": "code",
     "collapsed": false,
     "input": [
      "Ex. python BasicCross.py 1402000 1 10 100 100 10 100"
     ],
     "language": "python",
     "metadata": {},
     "outputs": []
    },
    {
     "cell_type": "markdown",
     "metadata": {},
     "source": [
      "Simulates a back cross between the first set of individuals and a second individual. Generates a subsequent generation of the same size as the previous generation each with the target allele (allele) at the specified physical location (physLoc) on the selected chromosome (chromNumber). "
     ]
    },
    {
     "cell_type": "code",
     "collapsed": false,
     "input": [
      "def backCross (diploidASet, diploidB, physLoc, chromNumber, allele):"
     ],
     "language": "python",
     "metadata": {},
     "outputs": []
    },
    {
     "cell_type": "markdown",
     "metadata": {},
     "source": [
      "Simulates a self cross between individuals in a set. Generates the next generation each with the target allele (allele) at the specified physical location (physLoc) on the selected chromosome (chromNumber)."
     ]
    },
    {
     "cell_type": "code",
     "collapsed": false,
     "input": [
      "def selfCross (diploidSet, physLoc, chromNumber, parent):"
     ],
     "language": "python",
     "metadata": {},
     "outputs": [],
     "prompt_number": 1
    },
    {
     "cell_type": "markdown",
     "metadata": {},
     "source": [
      "Takes a generation of individuals and writes a \"general_statistics.csv\" file that contains information about each individual's genome (info such as the percentage of the selected chromosome and genome that is the specified allele)  "
     ]
    },
    {
     "cell_type": "code",
     "collapsed": false,
     "input": [
      "def writeGeneralStatistics (crossNumber, physLoc, diploidSet, targetChrom, targetName, bucketSize, statFile):"
     ],
     "language": "python",
     "metadata": {},
     "outputs": []
    },
    {
     "cell_type": "markdown",
     "metadata": {},
     "source": [
      "Takes a set of individuals and writes their complete genomes. "
     ]
    },
    {
     "cell_type": "code",
     "collapsed": false,
     "input": [
      "def writeGroupSegments (fileName, diploidSet):"
     ],
     "language": "python",
     "metadata": {},
     "outputs": []
    },
    {
     "cell_type": "markdown",
     "metadata": {},
     "source": [
      "Helper method that takes a set of physical intervals and splits the intervals into left and right intervals."
     ]
    },
    {
     "cell_type": "code",
     "collapsed": false,
     "input": [
      "def separatePhysicalInterval (selectedPhysicalInterval, num):"
     ],
     "language": "python",
     "metadata": {},
     "outputs": []
    },
    {
     "cell_type": "markdown",
     "metadata": {},
     "source": [
      "Helper method that takes the selected physical interval and calculates the amount of unique break points based the specified bucket size."
     ]
    },
    {
     "cell_type": "code",
     "collapsed": false,
     "input": [
      "def bucketPhysicalIntervals (selectedPhysicalInterval, low, high, bucketSize)"
     ],
     "language": "python",
     "metadata": {},
     "outputs": []
    },
    {
     "cell_type": "markdown",
     "metadata": {},
     "source": [
      "Writes a \"buckets.csv\" file that contains information about the number of unique left and right breakpoints in a generation."
     ]
    },
    {
     "cell_type": "code",
     "collapsed": false,
     "input": [
      "def putIntervalIntoBuckets (numCross, chromNumber, physLoc, physInterval, bucketSize, numSampled, filePath):"
     ],
     "language": "python",
     "metadata": {},
     "outputs": []
    },
    {
     "cell_type": "markdown",
     "metadata": {},
     "source": [
      "Helper method that randomly selects a certain number of the total set."
     ]
    },
    {
     "cell_type": "code",
     "collapsed": false,
     "input": [
      "def selectRandomSubset (wormSet, numSelect):"
     ],
     "language": "python",
     "metadata": {},
     "outputs": []
    },
    {
     "cell_type": "markdown",
     "metadata": {},
     "source": [
      "Simulates the specified back cross. Outputs files describing the simulation; a general statistics file, a set of files of the full genomes of selected subsets and a bucketing file on the number of unique breakpoints."
     ]
    },
    {
     "cell_type": "code",
     "collapsed": false,
     "input": [
      "def backCrossSimulation(physLoc, chromNumber, crossNumber, indNumber, bucketSize, numRandomSelect, numIter):"
     ],
     "language": "python",
     "metadata": {},
     "outputs": []
    }
   ],
   "metadata": {}
  }
 ]
}