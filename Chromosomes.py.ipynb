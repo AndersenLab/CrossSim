{
 "metadata": {
  "name": "",
  "signature": "sha256:d0bbae670347c6764bef924be91725d1db6218ba0f00bc0d9f42d9e77af3cf3d"
 },
 "nbformat": 3,
 "nbformat_minor": 0,
 "worksheets": [
  {
   "cells": [
    {
     "cell_type": "heading",
     "level": 3,
     "metadata": {},
     "source": [
      "Chromosomes.py Documentation"
     ]
    },
    {
     "cell_type": "heading",
     "level": 4,
     "metadata": {},
     "source": [
      "Chromosomes are represented as lists of 2-tuples with the first entry being the start of the genetic location and the second being the allele. Ex. [(0, 'Wild'), (.563, 'Recessive')]"
     ]
    },
    {
     "cell_type": "heading",
     "level": 4,
     "metadata": {},
     "source": [
      "Genetic distances are in centimorgans. Physical distances are in base pairs. Genetic and physical locations were derived from INSERT PAPER NAME. "
     ]
    },
    {
     "cell_type": "code",
     "collapsed": false,
     "input": [
      "class Chromosome(object):"
     ],
     "language": "python",
     "metadata": {},
     "outputs": []
    },
    {
     "cell_type": "markdown",
     "metadata": {},
     "source": [
      "Static method that translates a physical distance into a genetic distance."
     ]
    },
    {
     "cell_type": "code",
     "collapsed": false,
     "input": [
      "def getGeneticDistance (physLoc, number):"
     ],
     "language": "python",
     "metadata": {},
     "outputs": []
    },
    {
     "cell_type": "markdown",
     "metadata": {},
     "source": [
      "Static method that translates a genetic distance to a value between 0 and 1. "
     ]
    },
    {
     "cell_type": "code",
     "collapsed": false,
     "input": [
      "def getLoc (physLoc, number):"
     ],
     "language": "python",
     "metadata": {},
     "outputs": []
    },
    {
     "cell_type": "markdown",
     "metadata": {},
     "source": [
      "Static method that translate a genetic distance to a physical distance."
     ]
    },
    {
     "cell_type": "code",
     "collapsed": false,
     "input": [
      "def getPhysDistance (cM, number):"
     ],
     "language": "python",
     "metadata": {},
     "outputs": []
    },
    {
     "cell_type": "markdown",
     "metadata": {},
     "source": [
      "Static method that translates a percentage [0,1] into a physical distance."
     ]
    },
    {
     "cell_type": "code",
     "collapsed": false,
     "input": [
      "def getPhysDistanceFromLoc (loc, number):"
     ],
     "language": "python",
     "metadata": {},
     "outputs": []
    },
    {
     "cell_type": "markdown",
     "metadata": {},
     "source": [
      "Gets the allele at the specified location [0,1]"
     ]
    },
    {
     "cell_type": "code",
     "collapsed": false,
     "input": [
      "def getParentAtLocation(self, loc):"
     ],
     "language": "python",
     "metadata": {},
     "outputs": []
    },
    {
     "cell_type": "markdown",
     "metadata": {},
     "source": [
      "Gets the alleles at the specified locations [0,1]"
     ]
    },
    {
     "cell_type": "code",
     "collapsed": false,
     "input": [
      "def getParentAtLocations(self, locs):"
     ],
     "language": "python",
     "metadata": {},
     "outputs": []
    },
    {
     "cell_type": "markdown",
     "metadata": {},
     "source": [
      "Gets the allele at the specified genetic location."
     ]
    },
    {
     "cell_type": "code",
     "collapsed": false,
     "input": [
      "def getParentAtMapLoc(self, mapLoc):"
     ],
     "language": "python",
     "metadata": {},
     "outputs": []
    },
    {
     "cell_type": "markdown",
     "metadata": {},
     "source": [
      "Gets the alleles at the specified genetic locations."
     ]
    },
    {
     "cell_type": "code",
     "collapsed": false,
     "input": [
      "def getParentAtMapLocs(self, mapLocs):"
     ],
     "language": "python",
     "metadata": {},
     "outputs": []
    },
    {
     "cell_type": "markdown",
     "metadata": {},
     "source": [
      "Takes the chromosome and simulates a recombination with a second chromosome."
     ]
    },
    {
     "cell_type": "code",
     "collapsed": false,
     "input": [
      "def recombine(self, mate, interference = None):"
     ],
     "language": "python",
     "metadata": {},
     "outputs": []
    },
    {
     "cell_type": "markdown",
     "metadata": {},
     "source": [
      "Gets the percentage of the chromosome that is a specific allele (parentName)"
     ]
    },
    {
     "cell_type": "code",
     "collapsed": false,
     "input": [
      "def getPercentageOfParent(self, parentName):"
     ],
     "language": "python",
     "metadata": {},
     "outputs": []
    },
    {
     "cell_type": "markdown",
     "metadata": {},
     "source": [
      "Returns the left and right bounds of the allele at the selected genetic location."
     ]
    },
    {
     "cell_type": "code",
     "collapsed": false,
     "input": [
      "def physicalLocsOfInterval(self, genLoc, chromNumber):"
     ],
     "language": "python",
     "metadata": {},
     "outputs": []
    }
   ],
   "metadata": {}
  }
 ]
}